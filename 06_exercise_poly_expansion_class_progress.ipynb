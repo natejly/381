{
  "cells": [
    {
      "cell_type": "markdown",
      "metadata": {
        "id": "_0fsGaVMMpwG"
      },
      "source": [
        "**Exercise 6: Polynomial Feature Expansion**\n",
        "\n",
        "*CPSC 381/581: Machine Learning*\n",
        "\n",
        "*Yale University*\n",
        "\n",
        "*Instructor: Alex Wong*\n",
        "\n",
        "\n",
        "**Prerequisites**:\n",
        "\n",
        "1. Enable Google Colaboratory as an app on your Google Drive account\n",
        "\n",
        "2. Create a new Google Colab notebook, this will also create a \"Colab Notebooks\" directory under \"MyDrive\" i.e.\n",
        "```\n",
        "/content/drive/MyDrive/Colab Notebooks\n",
        "```\n",
        "\n",
        "3. Create the following directory structure in your Google Drive\n",
        "```\n",
        "/content/drive/MyDrive/Colab Notebooks/CPSC 381-581: Machine Learning/Exercises\n",
        "```\n",
        "\n",
        "4. Move the 06_exercise_poly_expansion.ipynb into\n",
        "```\n",
        "/content/drive/MyDrive/Colab Notebooks/CPSC 381-581: Machine Learning/Exercises\n",
        "```\n",
        "so that its absolute path is\n",
        "```\n",
        "/content/drive/MyDrive/Colab Notebooks/CPSC 381-581: Machine Learning/Exercises/06_exercise_poly_expansion.ipynb\n",
        "```\n",
        "\n",
        "In this exercise, we will optimize a linear with polynomial feature expansion.\n",
        "\n",
        "\n",
        "**Submission**:\n",
        "\n",
        "1. Implement all TODOs in the code blocks below.\n",
        "\n",
        "2. Report your training and testing scores.\n",
        "\n",
        "```\n",
        "Report training and validation/testing scores here.\n",
        "\n",
        "```\n",
        "\n",
        "3. List any collaborators.\n",
        "\n",
        "```\n",
        "Collaborators: Doe, Jane (Please write names in <Last Name, First Name> format)\n",
        "\n",
        "Collaboration details: Discussed ... implementation details with Jane Doe.\n",
        "```"
      ]
    },
    {
      "cell_type": "markdown",
      "metadata": {
        "id": "wxeZsiCGC0J8"
      },
      "source": [
        "Import packages"
      ]
    },
    {
      "cell_type": "code",
      "execution_count": 43,
      "metadata": {
        "id": "uumvcyiQ-k21"
      },
      "outputs": [],
      "source": [
        "import numpy as np\n",
        "import sklearn.datasets as skdata\n",
        "import sklearn.metrics as skmetrics\n",
        "import sklearn.preprocessing as skpreprocess\n",
        "from sklearn.linear_model import LinearRegression as LinearRegressionSciKit\n",
        "import warnings, time\n",
        "from matplotlib import pyplot as plt\n",
        "\n",
        "warnings.filterwarnings(action='ignore')\n",
        "np.random.seed = 1"
      ]
    },
    {
      "cell_type": "markdown",
      "metadata": {
        "id": "Gcb2TArNKvf1"
      },
      "source": [
        "Helper function for plotting"
      ]
    },
    {
      "cell_type": "code",
      "execution_count": 44,
      "metadata": {
        "id": "nBXk85ASVDOB"
      },
      "outputs": [],
      "source": [
        "def plot_results(axis,\n",
        "                 x_values,\n",
        "                 y_values,\n",
        "                 labels,\n",
        "                 colors,\n",
        "                 x_limits,\n",
        "                 y_limits,\n",
        "                 x_label,\n",
        "                 y_label):\n",
        "    '''\n",
        "    Plots x and y values using line plot with labels and colors\n",
        "\n",
        "    Args:\n",
        "        axis :  pyplot.ax\n",
        "            matplotlib subplot axis\n",
        "        x_values : list[numpy[float32]]\n",
        "            list of numpy array of x values\n",
        "        y_values : list[numpy[float32]]\n",
        "            list of numpy array of y values\n",
        "        labels : str\n",
        "            list of names for legend\n",
        "        colors : str\n",
        "            colors for each line\n",
        "        x_limits : list[float32]\n",
        "            min and max values of x axis\n",
        "        y_limits : list[float32]\n",
        "            min and max values of y axis\n",
        "        x_label : list[str]\n",
        "            name of x axis\n",
        "        y_label : list[str]\n",
        "            name of y axis\n",
        "    '''\n",
        "\n",
        "    # TODO: Iterate through x_values, y_values, labels, and colors and plot them\n",
        "    # with associated legend\n",
        "    for x_value, y_value, label, color in zip(x_values, y_values, labels, colors):\n",
        "        axis.plot(x_value, y_value, color=color, label=label, marker='o')\n",
        "\n",
        "    \n",
        "\n",
        "    # TODO: Set x and y limits\n",
        "    axis.set_xlim(x_limits)\n",
        "    axis.set_ylim(y_limits)\n",
        "\n",
        "    # TODO: Set x and y labels\n",
        "    axis.set_xlabel(x_label)\n",
        "    axis.set_ylabel(y_label)\n",
        "    \n",
        "    axis.legend()\n"
      ]
    },
    {
      "cell_type": "markdown",
      "metadata": {
        "id": "TTvfLetIQmk5"
      },
      "source": [
        "Load dataset"
      ]
    },
    {
      "cell_type": "code",
      "execution_count": 45,
      "metadata": {
        "id": "k9OD26CBQmHN"
      },
      "outputs": [],
      "source": [
        "# Create synthetic dataset\n",
        "X, y = skdata.make_friedman1(n_samples=5000, n_features=10, noise=5)\n",
        "\n",
        "# Shuffle the dataset based on sample indices\n",
        "shuffled_indices = np.random.permutation(X.shape[0])\n",
        "\n",
        "# Choose the first 80% as training set and the rest as testing\n",
        "train_split_idx = int(0.80 * X.shape[0])\n",
        "\n",
        "train_indices = shuffled_indices[0:train_split_idx]\n",
        "test_indices = shuffled_indices[train_split_idx:]\n",
        "\n",
        "# Select the examples from x and y to construct our training and testing sets\n",
        "X_train, y_train = X[train_indices, :], y[train_indices]\n",
        "X_test, y_test = X[test_indices, :], y[test_indices]\n"
      ]
    },
    {
      "cell_type": "markdown",
      "metadata": {
        "id": "Ibd3k8JeQvHO"
      },
      "source": [
        "Experiment 1: Demonstrate that linear regression will overfit if we use high degrees of polynomial expansion"
      ]
    },
    {
      "cell_type": "code",
      "execution_count": 46,
      "metadata": {
        "colab": {
          "base_uri": "https://localhost:8080/",
          "height": 1000
        },
        "id": "yB29ajtrK8sQ",
        "outputId": "deb39e95-c369-419a-f897-65cfd6bb06ed"
      },
      "outputs": [
        {
          "name": "stdout",
          "output_type": "stream",
          "text": [
            "Results for linear regression model with degree 1 polynomial expansion\n",
            "Training set mean squared error: 30.9291\n",
            "Testing set mean squared error: 31.9312\n",
            "Results for linear regression model with degree 2 polynomial expansion\n",
            "Training set mean squared error: 26.5915\n",
            "Testing set mean squared error: 27.8807\n",
            "Results for linear regression model with degree 3 polynomial expansion\n",
            "Training set mean squared error: 23.5703\n",
            "Testing set mean squared error: 27.0259\n",
            "Results for linear regression model with degree 4 polynomial expansion\n",
            "Training set mean squared error: 18.7832\n",
            "Testing set mean squared error: 35.0734\n",
            "Results for linear regression model with degree 5 polynomial expansion\n",
            "Training set mean squared error: 6.0599\n",
            "Testing set mean squared error: 214.1294\n"
          ]
        },
        {
          "data": {
            "text/plain": [
              "Text(0.5, 1.0, 'Training Time with Various Degrees of Polynomial Expansions')"
            ]
          },
          "execution_count": 46,
          "metadata": {},
          "output_type": "execute_result"
        },
        {
          "data": {
            "image/png": "[encoded data removed]",
            "text/plain": [
              "<Figure size 1000x500 with 1 Axes>"
            ]
          },
          "metadata": {},
          "output_type": "display_data"
        },
        {
          "data": {
            "image/png": "[encoded data removed]",
            "text/plain": [
              "<Figure size 1000x500 with 1 Axes>"
            ]
          },
          "metadata": {},
          "output_type": "display_data"
        }
      ],
      "source": [
        "# TODO: Initialize a list containing 1 to 5 as the degrees for polynomial expansion\n",
        "degrees = [1, 2, 3, 4, 5]\n",
        "\n",
        "# Initialize empty lists to store scores for MSE\n",
        "scores_mse_linear_poly_train = []\n",
        "scores_mse_linear_poly_test = []\n",
        "\n",
        "# Intialize empty list to store time elapsed\n",
        "training_times_elapsed = []\n",
        "\n",
        "for degree in degrees:\n",
        "\n",
        "    time_start = time.time()\n",
        "\n",
        "    # TODO: Initialize polynomial expansion\n",
        "    poly_transform = skpreprocess.PolynomialFeatures(degree=degree)\n",
        "\n",
        "    # TODO: Compute the polynomial terms needed for the data\n",
        "\n",
        "    # TODO: Transform the data by nonlinear mapping\n",
        "    X_poly_train = poly_transform.fit_transform(X_train)\n",
        "    X_poly_test = poly_transform.transform(X_test)\n",
        "\n",
        "    # TODO: Initialize sci-kit linear regression model\n",
        "    model_linear_poly = LinearRegressionSciKit()\n",
        "\n",
        "    # TODO: Train linear regression model\n",
        "    \n",
        "    model_linear_poly.fit(X_poly_train, y_train)\n",
        "\n",
        "\n",
        "    # TODO: Store time elapsed\n",
        "    time_elapsed = time.time() - time_start\n",
        "    training_times_elapsed.append(time_elapsed)\n",
        "    print('Results for linear regression model with degree {} polynomial expansion'.format(degree))\n",
        "\n",
        "    # TODO: Test model on training set\n",
        "    predictions_train = model_linear_poly.predict(X_poly_train)\n",
        "    score_mse_linear_poly_train = skmetrics.mean_squared_error(y_train, predictions_train)\n",
        "    print('Training set mean squared error: {:.4f}'.format(score_mse_linear_poly_train))\n",
        "\n",
        "    # TODO: Save MSE training scores\n",
        "    scores_mse_linear_poly_train.append(score_mse_linear_poly_train)\n",
        "\n",
        "\n",
        "    # TODO: Test model on testing set\n",
        "    predictions_test = model_linear_poly.predict(X_poly_test)\n",
        "    score_mse_linear_poly_test = skmetrics.mean_squared_error(y_test, predictions_test)\n",
        "    print('Testing set mean squared error: {:.4f}'.format(score_mse_linear_poly_test))\n",
        "\n",
        "    # TODO: Save MSE testing scores\n",
        "    scores_mse_linear_poly_test.append(score_mse_linear_poly_test)\n",
        "\n",
        "\n",
        "\n",
        "# Convert each scores to NumPy arrays\n",
        "scores_mse_linear_poly_train = np.array(scores_mse_linear_poly_train)\n",
        "scores_mse_linear_poly_test = np.array(scores_mse_linear_poly_test)\n",
        "\n",
        "# Create figure for training and testing scores for different features\n",
        "n_experiments = scores_mse_linear_poly_train.shape[0]\n",
        "\n",
        "labels = ['Training', 'Testing']\n",
        "colors = ['blue', 'red']\n",
        "\n",
        "# TODO: Create a subplot of a 1 by 1 figure to plot MSE for training and testing\n",
        "fig_scores = plt.figure(figsize=(10, 5))\n",
        "ax_scores = fig_scores.add_subplot(1,1,1)\n",
        "\n",
        "# TODO: Set x axis as list of list of polynomial degrees\n",
        "experiments = [degrees, degrees]\n",
        "# TODO: Set y axis as a list of list of scores for training and testing\n",
        "scores = [scores_mse_linear_poly_train, scores_mse_linear_poly_test]\n",
        "\n",
        "# TODO: Plot MSE scores for training and testing sets\n",
        "# Set labels to ['Training', 'Testing'] and colors based on colors defined above\n",
        "# Set x limits to 0 to number of experiments + 1 and y limits between 0 and 100\n",
        "# Set x label to 'p-degree' and y label to 'MSE',\n",
        "\n",
        "plot_results(ax_scores,\n",
        "             experiments,\n",
        "             scores,\n",
        "             labels,\n",
        "             colors,\n",
        "             [0, n_experiments + 1],\n",
        "             [0, 100],\n",
        "             'p-degree',\n",
        "             'MSE')\n",
        "# TODO: Create plot title of 'Linear Regression with Various Degrees of Polynomial Expansions'\n",
        "\n",
        "ax_scores.set_title('Linear Regression with Various Degrees of Polynomial Expansions')\n",
        "# TODO: Create a subplot of a 1 by 1 figure to plot training times\n",
        "fig_times = plt.figure(figsize=(10, 5))\n",
        "ax_times = fig_times.add_subplot(1,1,1)\n",
        "\n",
        "# TODO: Plot training time\n",
        "# Wrap degrees and training_times_elapsed as lists and pass them in as x and y values\n",
        "# Set labels to ['Training time (seconds)'] and colors based on colors defined above\n",
        "# Set x limits to 0 to number of experiments + 1 and y limits between 0 and 40\n",
        "# Set x label to 'p-degree' and y label to 'Time elapsed'\n",
        "plot_results(ax_times,\n",
        "             experiments,\n",
        "             [training_times_elapsed],\n",
        "             ['Training time (seconds)'],\n",
        "             colors,\n",
        "             [0, n_experiments + 1],\n",
        "             [0, 40],\n",
        "             'p-degree',\n",
        "             'Time elapsed')\n",
        "# TODO: Create plot title of 'Training Time with Various Degrees of Polynomial Expansions'\n",
        "ax_times.set_title('Training Time with Various Degrees of Polynomial Expansions')"
      ]
    }
  ],
  "metadata": {
    "colab": {
      "provenance": []
    },
    "kernelspec": {
      "display_name": "Python 3",
      "name": "python3"
    },
    "language_info": {
      "codemirror_mode": {
        "name": "ipython",
        "version": 3
      },
      "file_extension": ".py",
      "mimetype": "text/x-python",
      "name": "python",
      "nbconvert_exporter": "python",
      "pygments_lexer": "ipython3",
      "version": "3.12.4"
    }
  },
  "nbformat": 4,
  "nbformat_minor": 0
}
